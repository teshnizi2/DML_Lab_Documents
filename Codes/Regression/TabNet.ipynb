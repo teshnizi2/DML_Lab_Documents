{
  "nbformat": 4,
  "nbformat_minor": 0,
  "metadata": {
    "colab": {
      "provenance": []
    },
    "kernelspec": {
      "name": "python3",
      "display_name": "Python 3"
    },
    "language_info": {
      "name": "python"
    }
  },
  "cells": [
    {
      "cell_type": "code",
      "source": [
        "# Step 1: Install necessary libraries\n",
        "!pip install pytorch-tabnet\n",
        "!pip install matplotlib"
      ],
      "metadata": {
        "colab": {
          "base_uri": "https://localhost:8080/"
        },
        "id": "xa15i3qlyRuZ",
        "outputId": "64263bc2-f0b4-42b9-ced3-16ce6e592230"
      },
      "execution_count": 2,
      "outputs": [
        {
          "output_type": "stream",
          "name": "stdout",
          "text": [
            "Requirement already satisfied: pytorch-tabnet in /usr/local/lib/python3.10/dist-packages (4.1.0)\n",
            "Requirement already satisfied: numpy>=1.17 in /usr/local/lib/python3.10/dist-packages (from pytorch-tabnet) (1.23.5)\n",
            "Requirement already satisfied: scikit_learn>0.21 in /usr/local/lib/python3.10/dist-packages (from pytorch-tabnet) (1.2.2)\n",
            "Requirement already satisfied: scipy>1.4 in /usr/local/lib/python3.10/dist-packages (from pytorch-tabnet) (1.11.2)\n",
            "Requirement already satisfied: torch>=1.3 in /usr/local/lib/python3.10/dist-packages (from pytorch-tabnet) (2.0.1+cu118)\n",
            "Requirement already satisfied: tqdm>=4.36 in /usr/local/lib/python3.10/dist-packages (from pytorch-tabnet) (4.66.1)\n",
            "Requirement already satisfied: joblib>=1.1.1 in /usr/local/lib/python3.10/dist-packages (from scikit_learn>0.21->pytorch-tabnet) (1.3.2)\n",
            "Requirement already satisfied: threadpoolctl>=2.0.0 in /usr/local/lib/python3.10/dist-packages (from scikit_learn>0.21->pytorch-tabnet) (3.2.0)\n",
            "Requirement already satisfied: filelock in /usr/local/lib/python3.10/dist-packages (from torch>=1.3->pytorch-tabnet) (3.12.2)\n",
            "Requirement already satisfied: typing-extensions in /usr/local/lib/python3.10/dist-packages (from torch>=1.3->pytorch-tabnet) (4.5.0)\n",
            "Requirement already satisfied: sympy in /usr/local/lib/python3.10/dist-packages (from torch>=1.3->pytorch-tabnet) (1.12)\n",
            "Requirement already satisfied: networkx in /usr/local/lib/python3.10/dist-packages (from torch>=1.3->pytorch-tabnet) (3.1)\n",
            "Requirement already satisfied: jinja2 in /usr/local/lib/python3.10/dist-packages (from torch>=1.3->pytorch-tabnet) (3.1.2)\n",
            "Requirement already satisfied: triton==2.0.0 in /usr/local/lib/python3.10/dist-packages (from torch>=1.3->pytorch-tabnet) (2.0.0)\n",
            "Requirement already satisfied: cmake in /usr/local/lib/python3.10/dist-packages (from triton==2.0.0->torch>=1.3->pytorch-tabnet) (3.27.4.1)\n",
            "Requirement already satisfied: lit in /usr/local/lib/python3.10/dist-packages (from triton==2.0.0->torch>=1.3->pytorch-tabnet) (16.0.6)\n",
            "Requirement already satisfied: MarkupSafe>=2.0 in /usr/local/lib/python3.10/dist-packages (from jinja2->torch>=1.3->pytorch-tabnet) (2.1.3)\n",
            "Requirement already satisfied: mpmath>=0.19 in /usr/local/lib/python3.10/dist-packages (from sympy->torch>=1.3->pytorch-tabnet) (1.3.0)\n",
            "Requirement already satisfied: matplotlib in /usr/local/lib/python3.10/dist-packages (3.7.1)\n",
            "Requirement already satisfied: contourpy>=1.0.1 in /usr/local/lib/python3.10/dist-packages (from matplotlib) (1.1.0)\n",
            "Requirement already satisfied: cycler>=0.10 in /usr/local/lib/python3.10/dist-packages (from matplotlib) (0.11.0)\n",
            "Requirement already satisfied: fonttools>=4.22.0 in /usr/local/lib/python3.10/dist-packages (from matplotlib) (4.42.1)\n",
            "Requirement already satisfied: kiwisolver>=1.0.1 in /usr/local/lib/python3.10/dist-packages (from matplotlib) (1.4.5)\n",
            "Requirement already satisfied: numpy>=1.20 in /usr/local/lib/python3.10/dist-packages (from matplotlib) (1.23.5)\n",
            "Requirement already satisfied: packaging>=20.0 in /usr/local/lib/python3.10/dist-packages (from matplotlib) (23.1)\n",
            "Requirement already satisfied: pillow>=6.2.0 in /usr/local/lib/python3.10/dist-packages (from matplotlib) (9.4.0)\n",
            "Requirement already satisfied: pyparsing>=2.3.1 in /usr/local/lib/python3.10/dist-packages (from matplotlib) (3.1.1)\n",
            "Requirement already satisfied: python-dateutil>=2.7 in /usr/local/lib/python3.10/dist-packages (from matplotlib) (2.8.2)\n",
            "Requirement already satisfied: six>=1.5 in /usr/local/lib/python3.10/dist-packages (from python-dateutil>=2.7->matplotlib) (1.16.0)\n"
          ]
        }
      ]
    },
    {
      "cell_type": "code",
      "source": [
        "# Step 2: Load a sample dataset\n",
        "import numpy as np\n",
        "import pandas as pd\n",
        "from sklearn.model_selection import train_test_split"
      ],
      "metadata": {
        "id": "F5Fm9fUxyTox"
      },
      "execution_count": 6,
      "outputs": []
    },
    {
      "cell_type": "code",
      "source": [
        "from pytorch_tabnet.tab_model import TabNetRegressor\n",
        "import torch"
      ],
      "metadata": {
        "id": "pevHXrMfy2tH"
      },
      "execution_count": 9,
      "outputs": []
    },
    {
      "cell_type": "code",
      "source": [
        "np.random.seed(0)\n",
        "X = np.random.rand(100, 5)\n",
        "y = 3 * X[:, 0] + 2 * X[:, 1] - X[:, 2] + np.random.randn(100) * 0.1"
      ],
      "metadata": {
        "id": "ZUSuXYS0ynjY"
      },
      "execution_count": 7,
      "outputs": []
    },
    {
      "cell_type": "code",
      "source": [
        "# Split the data into training and testing sets\n",
        "X_train, X_test, y_train, y_test = train_test_split(X, y, test_size=0.2, random_state=42)"
      ],
      "metadata": {
        "id": "smQsBH_syvO1"
      },
      "execution_count": 10,
      "outputs": []
    },
    {
      "cell_type": "code",
      "source": [
        "\n",
        "# Reshape y_train and y_test to have two dimensions\n",
        "y_train = y_train.reshape(-1, 1)\n",
        "y_test = y_test.reshape(-1, 1)\n",
        "\n",
        "# Create and train the TabNet model\n",
        "tabnet = TabNetRegressor()\n",
        "tabnet.fit(\n",
        "    X_train, y_train,\n",
        "    eval_set=[(X_test, y_test)],\n",
        "    max_epochs=100,\n",
        "    patience=20,\n",
        "    batch_size=64,\n",
        "    virtual_batch_size=32,\n",
        "    num_workers=0,\n",
        ")\n"
      ],
      "metadata": {
        "colab": {
          "base_uri": "https://localhost:8080/"
        },
        "id": "mdoeAnlsy6RA",
        "outputId": "b7a054a7-e862-4a05-bdc1-2c1f5a05cd60"
      },
      "execution_count": 15,
      "outputs": [
        {
          "output_type": "stream",
          "name": "stderr",
          "text": [
            "/usr/local/lib/python3.10/dist-packages/pytorch_tabnet/abstract_model.py:82: UserWarning: Device used : cpu\n",
            "  warnings.warn(f\"Device used : {self.device}\")\n"
          ]
        },
        {
          "output_type": "stream",
          "name": "stdout",
          "text": [
            "epoch 0  | loss: 6.487   | val_0_mse: 6.38077 |  0:00:00s\n",
            "epoch 1  | loss: 4.57453 | val_0_mse: 4.28804 |  0:00:00s\n",
            "epoch 2  | loss: 2.13898 | val_0_mse: 2.40048 |  0:00:00s\n",
            "epoch 3  | loss: 1.69695 | val_0_mse: 2.5576  |  0:00:00s\n",
            "epoch 4  | loss: 0.81415 | val_0_mse: 2.42157 |  0:00:00s\n",
            "epoch 5  | loss: 0.93742 | val_0_mse: 2.54157 |  0:00:00s\n",
            "epoch 6  | loss: 1.00885 | val_0_mse: 2.63675 |  0:00:00s\n",
            "epoch 7  | loss: 0.9849  | val_0_mse: 3.18501 |  0:00:00s\n",
            "epoch 8  | loss: 0.65283 | val_0_mse: 3.89099 |  0:00:00s\n",
            "epoch 9  | loss: 0.77135 | val_0_mse: 4.03959 |  0:00:00s\n",
            "epoch 10 | loss: 0.45648 | val_0_mse: 3.85616 |  0:00:00s\n",
            "epoch 11 | loss: 0.53458 | val_0_mse: 3.33041 |  0:00:00s\n",
            "epoch 12 | loss: 0.27774 | val_0_mse: 2.84929 |  0:00:00s\n",
            "epoch 13 | loss: 0.4049  | val_0_mse: 2.55869 |  0:00:00s\n",
            "epoch 14 | loss: 0.24691 | val_0_mse: 2.0394  |  0:00:00s\n",
            "epoch 15 | loss: 0.23218 | val_0_mse: 1.64747 |  0:00:00s\n",
            "epoch 16 | loss: 0.27489 | val_0_mse: 1.44148 |  0:00:01s\n",
            "epoch 17 | loss: 0.27233 | val_0_mse: 1.47816 |  0:00:01s\n",
            "epoch 18 | loss: 0.31623 | val_0_mse: 1.50959 |  0:00:01s\n",
            "epoch 19 | loss: 0.22858 | val_0_mse: 1.547   |  0:00:01s\n",
            "epoch 20 | loss: 0.31702 | val_0_mse: 1.55474 |  0:00:01s\n",
            "epoch 21 | loss: 0.26196 | val_0_mse: 1.56823 |  0:00:01s\n",
            "epoch 22 | loss: 0.2964  | val_0_mse: 1.43904 |  0:00:01s\n",
            "epoch 23 | loss: 0.25172 | val_0_mse: 1.31104 |  0:00:01s\n",
            "epoch 24 | loss: 0.32706 | val_0_mse: 1.17792 |  0:00:01s\n",
            "epoch 25 | loss: 0.31254 | val_0_mse: 1.02512 |  0:00:01s\n",
            "epoch 26 | loss: 0.25304 | val_0_mse: 0.85105 |  0:00:01s\n",
            "epoch 27 | loss: 0.22528 | val_0_mse: 0.75148 |  0:00:01s\n",
            "epoch 28 | loss: 0.18124 | val_0_mse: 0.69114 |  0:00:01s\n",
            "epoch 29 | loss: 0.16335 | val_0_mse: 0.6532  |  0:00:01s\n",
            "epoch 30 | loss: 0.17424 | val_0_mse: 0.5779  |  0:00:01s\n",
            "epoch 31 | loss: 0.18047 | val_0_mse: 0.45501 |  0:00:01s\n",
            "epoch 32 | loss: 0.16834 | val_0_mse: 0.40016 |  0:00:01s\n",
            "epoch 33 | loss: 0.18702 | val_0_mse: 0.36839 |  0:00:01s\n",
            "epoch 34 | loss: 0.15469 | val_0_mse: 0.36836 |  0:00:01s\n",
            "epoch 35 | loss: 0.15029 | val_0_mse: 0.33236 |  0:00:01s\n",
            "epoch 36 | loss: 0.13137 | val_0_mse: 0.30358 |  0:00:01s\n",
            "epoch 37 | loss: 0.1453  | val_0_mse: 0.31466 |  0:00:01s\n",
            "epoch 38 | loss: 0.12388 | val_0_mse: 0.33106 |  0:00:01s\n",
            "epoch 39 | loss: 0.30281 | val_0_mse: 0.35143 |  0:00:01s\n",
            "epoch 40 | loss: 0.18413 | val_0_mse: 0.32028 |  0:00:01s\n",
            "epoch 41 | loss: 0.1345  | val_0_mse: 0.31804 |  0:00:01s\n",
            "epoch 42 | loss: 0.15265 | val_0_mse: 0.31783 |  0:00:01s\n",
            "epoch 43 | loss: 0.15038 | val_0_mse: 0.34952 |  0:00:01s\n",
            "epoch 44 | loss: 0.09355 | val_0_mse: 0.37867 |  0:00:01s\n",
            "epoch 45 | loss: 0.13167 | val_0_mse: 0.39642 |  0:00:01s\n",
            "epoch 46 | loss: 0.11073 | val_0_mse: 0.39454 |  0:00:02s\n",
            "epoch 47 | loss: 0.09925 | val_0_mse: 0.38792 |  0:00:02s\n",
            "epoch 48 | loss: 0.09778 | val_0_mse: 0.38936 |  0:00:02s\n",
            "epoch 49 | loss: 0.06446 | val_0_mse: 0.40154 |  0:00:02s\n",
            "epoch 50 | loss: 0.10698 | val_0_mse: 0.41387 |  0:00:02s\n",
            "epoch 51 | loss: 0.1103  | val_0_mse: 0.43895 |  0:00:02s\n",
            "epoch 52 | loss: 0.11205 | val_0_mse: 0.46792 |  0:00:02s\n",
            "epoch 53 | loss: 0.06623 | val_0_mse: 0.46884 |  0:00:02s\n",
            "epoch 54 | loss: 0.13597 | val_0_mse: 0.46826 |  0:00:02s\n",
            "epoch 55 | loss: 0.07584 | val_0_mse: 0.46625 |  0:00:02s\n",
            "epoch 56 | loss: 0.15127 | val_0_mse: 0.44828 |  0:00:02s\n",
            "\n",
            "Early stopping occurred at epoch 56 with best_epoch = 36 and best_val_0_mse = 0.30358\n"
          ]
        },
        {
          "output_type": "stream",
          "name": "stderr",
          "text": [
            "/usr/local/lib/python3.10/dist-packages/pytorch_tabnet/callbacks.py:172: UserWarning: Best weights from best epoch are automatically used!\n",
            "  warnings.warn(wrn_msg)\n"
          ]
        }
      ]
    },
    {
      "cell_type": "code",
      "source": [
        "from sklearn.metrics import mean_squared_error, r2_score\n",
        "import matplotlib.pyplot as plt"
      ],
      "metadata": {
        "id": "uumMJlMmzYfP"
      },
      "execution_count": 19,
      "outputs": []
    },
    {
      "cell_type": "code",
      "source": [
        "y_pred = tabnet.predict(X_test)\n",
        "\n",
        "mse = mean_squared_error(y_test, y_pred)\n",
        "r2 = r2_score(y_test, y_pred)"
      ],
      "metadata": {
        "id": "U1i2Mpvazbg1"
      },
      "execution_count": 17,
      "outputs": []
    },
    {
      "cell_type": "code",
      "source": [
        "print(f\"Mean Squared Error: {mse}\")\n",
        "print(f\"R-squared: {r2}\")"
      ],
      "metadata": {
        "colab": {
          "base_uri": "https://localhost:8080/"
        },
        "id": "3BoYwj0LzfAA",
        "outputId": "f8cd046d-33ed-4ab5-a262-33fa5070ac6b"
      },
      "execution_count": 18,
      "outputs": [
        {
          "output_type": "stream",
          "name": "stdout",
          "text": [
            "Mean Squared Error: 0.3035831902515473\n",
            "R-squared: 0.6943687993502554\n"
          ]
        }
      ]
    },
    {
      "cell_type": "code",
      "source": [
        "# Plot actual vs. predicted\n",
        "plt.figure(figsize=(10, 6))\n",
        "plt.scatter(y_test, y_pred, c='b', label='Actual vs. Predicted')\n",
        "plt.plot([min(y_test), max(y_test)], [min(y_test), max(y_test)], linestyle='--', color='r', label='Perfect Prediction')\n",
        "plt.xlabel(\"Actual\")\n",
        "plt.ylabel(\"Predicted\")\n",
        "plt.title(\"Actual vs. Predicted\")\n",
        "plt.legend()\n",
        "plt.show()"
      ],
      "metadata": {
        "colab": {
          "base_uri": "https://localhost:8080/",
          "height": 564
        },
        "id": "GqixNSEDzlGN",
        "outputId": "8b14e79a-4f10-4ebc-cf13-e5cafc00ed40"
      },
      "execution_count": 23,
      "outputs": [
        {
          "output_type": "display_data",
          "data": {
            "text/plain": [
              "<Figure size 1000x600 with 1 Axes>"
            ],
            "image/png": "[encoded data removed]"
          },
          "metadata": {}
        }
      ]
    }
  ]
}