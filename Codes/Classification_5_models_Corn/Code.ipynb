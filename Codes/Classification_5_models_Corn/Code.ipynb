{
 "cells": [
  {
   "cell_type": "code",
   "execution_count": 25,
   "id": "49f699a9-cc97-4172-8d67-cef7735dd37e",
   "metadata": {},
   "outputs": [
    {
     "name": "stdout",
     "output_type": "stream",
     "text": [
      "Collecting reportlab\n",
      "  Downloading reportlab-4.0.7-py3-none-any.whl.metadata (1.3 kB)\n",
      "Requirement already satisfied: pillow>=9.0.0 in /home/raziyeh/miniconda3/envs/anar/lib/python3.11/site-packages (from reportlab) (10.1.0)\n",
      "Downloading reportlab-4.0.7-py3-none-any.whl (1.9 MB)\n",
      "\u001b[2K   \u001b[90m━━━━━━━━━━━━━━━━━━━━━━━━━━━━━━━━━━━━━━━━\u001b[0m \u001b[32m1.9/1.9 MB\u001b[0m \u001b[31m11.7 MB/s\u001b[0m eta \u001b[36m0:00:00\u001b[0m00:01\u001b[0m0:01\u001b[0m\n",
      "\u001b[?25hInstalling collected packages: reportlab\n",
      "Successfully installed reportlab-4.0.7\n"
     ]
    }
   ],
   "source": [
    "# !pip install tqdm\n",
    "# !pip install scikit-learn\n",
    "# !pip install pandas\n",
    "# !pip install matplotlib\n",
    "# !pip install seaborn\n",
    "# !pip install torch\n",
    "# !pip install torchvision\n",
    "# !pip install kaggle\n",
    "# !pip install --upgrade torchvision\n",
    "# !pip install reportlab\n"
   ]
  },
  {
   "cell_type": "code",
   "execution_count": 43,
   "id": "8ef49036-7f8e-4307-ac88-23ab11316cd6",
   "metadata": {},
   "outputs": [],
   "source": [
    "import os\n",
    "import zipfile\n",
    "import numpy as np\n",
    "import pandas as pd\n",
    "import matplotlib.pyplot as plt\n",
    "import seaborn as sns\n",
    "from tqdm import tqdm\n",
    "from sklearn.metrics import (\n",
    "    classification_report, confusion_matrix, roc_curve,\n",
    "    roc_auc_score, f1_score, precision_score, recall_score, accuracy_score,\n",
    "    auc, precision_recall_curve, average_precision_score\n",
    ")\n",
    "from sklearn.model_selection import StratifiedShuffleSplit\n",
    "from sklearn.preprocessing import label_binarize, OneHotEncoder\n",
    "import torch\n",
    "import torch.nn as nn\n",
    "import torch.optim as optim\n",
    "from torch.utils.data import DataLoader\n",
    "from torchvision import transforms\n",
    "from torchvision.datasets import ImageFolder\n",
    "from torchvision.io import read_image\n",
    "import torchvision.models as models\n",
    "import json\n",
    "from torchvision import datasets, transforms\n",
    "import requests\n",
    "\n",
    "from sklearn.metrics import precision_score, recall_score, f1_score\n",
    "from reportlab.lib.pagesizes import letter\n",
    "from reportlab.pdfgen import canvas\n",
    "\n",
    "from sklearn.metrics import precision_score, recall_score, f1_score\n",
    "from reportlab.lib.pagesizes import letter\n",
    "from reportlab.pdfgen import canvas\n",
    "from reportlab.pdfbase import pdfmetrics\n",
    "from reportlab.pdfbase.ttfonts import TTFont\n",
    "\n",
    "import json\n",
    "import torch\n",
    "import torchvision.models as models\n",
    "import torch.optim as optim\n"
   ]
  },
  {
   "cell_type": "code",
   "execution_count": 36,
   "id": "459159be-571d-4fd7-969f-e3825027ec9f",
   "metadata": {},
   "outputs": [],
   "source": [
    "# os.environ['KAGGLE_USERNAME'] = \"mohammadafdsfa\"\n",
    "# os.environ['KAGGLE_KEY'] = \"759b23bd9824608f45638f383fecc36b\"\n",
    "# !kaggle datasets download -d qramkrishna/corn-leaf-infection-dataset\n",
    "# with zipfile.ZipFile(\"corn-leaf-infection-dataset.zip\", \"r\") as zip_ref:\n",
    "#     zip_ref.extractall(\"corn-leaf-infection-dataset\")"
   ]
  },
  {
   "cell_type": "code",
   "execution_count": 37,
   "id": "7b425c20-7f26-45f2-9689-167ec52c7bc0",
   "metadata": {},
   "outputs": [],
   "source": [
    "# -----------------------------------"
   ]
  },
  {
   "cell_type": "code",
   "execution_count": 44,
   "id": "09223898-3626-46cc-85f0-e8fbf765d9b5",
   "metadata": {},
   "outputs": [],
   "source": [
    "import matplotlib.pyplot as plt\n",
    "\n",
    "def save_plot(title, base_filename):\n",
    "    formats = ['png', 'jpg', 'svg', 'pdf']\n",
    "    for fmt in formats:\n",
    "        plt.savefig(f\"{base_filename}_{title}.{fmt}\", format=fmt, dpi=1500, bbox_inches=\"tight\")"
   ]
  },
  {
   "cell_type": "code",
   "execution_count": 55,
   "id": "15f38481-fa5a-4e71-864e-e07ec744f638",
   "metadata": {},
   "outputs": [],
   "source": [
    "def save_metrics_to_pdf(\n",
    "    true_labels, predicted_classes, precision_per_class, recall_per_class, f1_per_class,\n",
    "    precision_micro, recall_micro, f1_micro, precision_macro, recall_macro, f1_macro,\n",
    "    model_name=\"model\", output_directory=\".\", filename_suffix=\"metrics_results.pdf\"\n",
    "):\n",
    "    pdf_file_name = f\"{model_name}_{filename_suffix}\"\n",
    "\n",
    "    c = canvas.Canvas(pdf_file_name, pagesize=letter)\n",
    "    c.setFont(\"Arial\", 12) \n",
    "    \n",
    "    content = [\n",
    "        \"Precision per class:\" + str(precision_per_class),\n",
    "        \"Recall per class:\" + str(recall_per_class),\n",
    "        \"F1 Score per class:\" + str(f1_per_class),\n",
    "        \"Micro-average:\",\n",
    "        f'Precision: {precision_micro:.4f}',\n",
    "        f'Recall: {recall_micro:.4f}',\n",
    "        f'F1 Score: {f1_micro:.4f}',\n",
    "        \"Macro-average:\",\n",
    "        f'Precision: {precision_macro:.4f}',\n",
    "        f'Recall: {recall_macro:.4f}',\n",
    "        f'F1 Score: {f1_macro:.4f}',\n",
    "    ]\n",
    "\n",
    "    x, y = 50, 750\n",
    "\n",
    "    for line in content:\n",
    "        c.drawString(x, y, line)\n",
    "        y -= 20 \n",
    "    c.save()\n",
    "\n",
    "    print(f\"Results saved to {pdf_file_name}\")"
   ]
  },
  {
   "cell_type": "code",
   "execution_count": 46,
   "id": "351c6c1f-5f2c-405e-baf3-0bcbb08234e5",
   "metadata": {},
   "outputs": [],
   "source": [
    "# def download_file(url, filename):\n",
    "#     # Send a GET request to the URL\n",
    "#     response = requests.get(url)\n",
    "\n",
    "#     # Check if the request was successful\n",
    "#     if response.status_code == 200:\n",
    "#         with open(filename, 'wb') as file:\n",
    "#             file.write(response.content)\n",
    "#         print(f\"Downloaded '{filename}' successfully.\")\n",
    "#     else:\n",
    "#         print(f\"Failed to download '{filename}'. Status code: {response.status_code}\")"
   ]
  },
  {
   "cell_type": "code",
   "execution_count": 49,
   "id": "092e6bc6-0bca-49b5-872f-40a2721957f2",
   "metadata": {},
   "outputs": [],
   "source": [
    "# font_url = 'https://www.cufonfonts.com/download/font/arial'\n",
    "# font_filename = 'arial.ttf'\n",
    "\n",
    "# download_file(font_url, font_filename)"
   ]
  },
  {
   "cell_type": "code",
   "execution_count": 52,
   "id": "783dcf07-3e6c-43e5-ad03-7aa958cb423d",
   "metadata": {},
   "outputs": [],
   "source": [
    "pdfmetrics.registerFont(TTFont(\"Arial\", \"arial.ttf\"))"
   ]
  },
  {
   "cell_type": "code",
   "execution_count": 5,
   "id": "4bf8d98e-a7e1-452d-9776-dcdd27f56357",
   "metadata": {},
   "outputs": [],
   "source": [
    "# ---------------------------------------"
   ]
  },
  {
   "cell_type": "code",
   "execution_count": 85,
   "id": "2e3c0c2a-3d60-43aa-8c87-a6dee92a6b21",
   "metadata": {},
   "outputs": [
    {
     "name": "stderr",
     "output_type": "stream",
     "text": [
      "Extracting Labels: 100%|███████████████████████████████████████████████████████| 4225/4225 [02:59<00:00, 23.56samples/s]"
     ]
    },
    {
     "name": "stdout",
     "output_type": "stream",
     "text": [
      "Training dataset size: 2028\n",
      "Validation dataset size: 676\n",
      "Testing dataset size: 676\n"
     ]
    },
    {
     "name": "stderr",
     "output_type": "stream",
     "text": [
      "\n"
     ]
    }
   ],
   "source": [
    "data_transforms = {\n",
    "    'train': transforms.Compose([\n",
    "        transforms.RandomResizedCrop(224),\n",
    "        transforms.RandomHorizontalFlip(),\n",
    "        transforms.ToTensor(),\n",
    "        transforms.Normalize([0.485, 0.456, 0.406], [0.229, 0.224, 0.225])\n",
    "    ]),\n",
    "    'test': transforms.Compose([\n",
    "        transforms.Resize(256),\n",
    "        transforms.CenterCrop(224),\n",
    "        transforms.ToTensor(),\n",
    "        transforms.Normalize([0.485, 0.456, 0.406], [0.229, 0.224, 0.225])\n",
    "    ])\n",
    "}\n",
    "\n",
    "data_dir = 'corn-leaf-infection-dataset/Corn Disease detection'\n",
    "\n",
    "combined_dataset = datasets.ImageFolder(data_dir, data_transforms['train'])\n",
    "\n",
    "labels = []\n",
    "\n",
    "for _, label in tqdm(combined_dataset, desc=\"Extracting Labels\", unit=\"samples\"):\n",
    "    labels.append(label)\n",
    "\n",
    "stratified_splitter = StratifiedShuffleSplit(n_splits=1, test_size=0.2, random_state=42)\n",
    "train_test_indices, validation_indices = next(stratified_splitter.split(np.zeros(len(labels)), labels))\n",
    "\n",
    "train_size = int(0.6 * len(train_test_indices))\n",
    "test_size = int(0.2 * len(train_test_indices))\n",
    "validation_size = len(train_test_indices) - train_size - test_size\n",
    "\n",
    "train_indices = train_test_indices[:train_size]\n",
    "test_indices = train_test_indices[train_size:train_size + test_size]\n",
    "validation_indices = train_test_indices[train_size + test_size:]\n",
    "\n",
    "train_dataset = torch.utils.data.Subset(combined_dataset, train_indices)\n",
    "test_dataset = torch.utils.data.Subset(combined_dataset, test_indices)\n",
    "validation_dataset = torch.utils.data.Subset(combined_dataset, validation_indices)\n",
    "\n",
    "batch_size = 32\n",
    "num_workers = 2\n",
    "\n",
    "train_loader = DataLoader(train_dataset, batch_size=batch_size, shuffle=True, num_workers=num_workers)\n",
    "validation_loader = DataLoader(validation_dataset, batch_size=batch_size, num_workers=num_workers)\n",
    "test_loader = DataLoader(test_dataset, batch_size=batch_size, num_workers=num_workers)\n",
    "\n",
    "num_classes = len(combined_dataset.classes)\n",
    "\n",
    "print(f'Training dataset size: {len(train_dataset)}')\n",
    "print(f'Validation dataset size: {len(validation_dataset)}')\n",
    "print(f'Testing dataset size: {len(test_dataset)}')"
   ]
  },
  {
   "cell_type": "code",
   "execution_count": null,
   "id": "3d50c612-8227-41b4-bb58-aa129706ba94",
   "metadata": {},
   "outputs": [],
   "source": [
    "# ================================================"
   ]
  },
  {
   "cell_type": "code",
   "execution_count": 88,
   "id": "6d612d88-1270-4fbe-91bc-bab4da48e680",
   "metadata": {},
   "outputs": [
    {
     "name": "stderr",
     "output_type": "stream",
     "text": [
      "/home/raziyeh/miniconda3/envs/anar/lib/python3.11/site-packages/torchvision/models/_utils.py:208: UserWarning: The parameter 'pretrained' is deprecated since 0.13 and may be removed in the future, please use 'weights' instead.\n",
      "  warnings.warn(\n",
      "/home/raziyeh/miniconda3/envs/anar/lib/python3.11/site-packages/torchvision/models/_utils.py:223: UserWarning: Arguments other than a weight enum or `None` for 'weights' are deprecated since 0.13 and may be removed in the future. The current behavior is equivalent to passing `weights=AlexNet_Weights.IMAGENET1K_V1`. You can also use `weights=AlexNet_Weights.DEFAULT` to get the most up-to-date weights.\n",
      "  warnings.warn(msg)\n"
     ]
    },
    {
     "ename": "FileNotFoundError",
     "evalue": "[Errno 2] No such file or directory: 'alexnet_additional_data.json'",
     "output_type": "error",
     "traceback": [
      "\u001b[0;31m---------------------------------------------------------------------------\u001b[0m",
      "\u001b[0;31mFileNotFoundError\u001b[0m                         Traceback (most recent call last)",
      "Cell \u001b[0;32mIn[88], line 38\u001b[0m\n\u001b[1;32m     35\u001b[0m optimizer \u001b[38;5;241m=\u001b[39m optim\u001b[38;5;241m.\u001b[39mSGD(model\u001b[38;5;241m.\u001b[39mparameters(), lr\u001b[38;5;241m=\u001b[39m\u001b[38;5;241m0.001\u001b[39m, momentum\u001b[38;5;241m=\u001b[39m\u001b[38;5;241m0.9\u001b[39m)\n\u001b[1;32m     36\u001b[0m optimizer\u001b[38;5;241m.\u001b[39mload_state_dict(torch\u001b[38;5;241m.\u001b[39mload(\u001b[38;5;124mf\u001b[39m\u001b[38;5;124m\"\u001b[39m\u001b[38;5;132;01m{\u001b[39;00mmodel_name\u001b[38;5;132;01m}\u001b[39;00m\u001b[38;5;124m_optimizer_state.pth\u001b[39m\u001b[38;5;124m\"\u001b[39m))\n\u001b[0;32m---> 38\u001b[0m \u001b[38;5;28;01mwith\u001b[39;00m \u001b[38;5;28;43mopen\u001b[39;49m\u001b[43m(\u001b[49m\u001b[38;5;124;43mf\u001b[39;49m\u001b[38;5;124;43m\"\u001b[39;49m\u001b[38;5;132;43;01m{\u001b[39;49;00m\u001b[43mmodel_name\u001b[49m\u001b[38;5;132;43;01m}\u001b[39;49;00m\u001b[38;5;124;43m_additional_data.json\u001b[39;49m\u001b[38;5;124;43m\"\u001b[39;49m\u001b[43m,\u001b[49m\u001b[43m \u001b[49m\u001b[38;5;124;43m'\u001b[39;49m\u001b[38;5;124;43mr\u001b[39;49m\u001b[38;5;124;43m'\u001b[39;49m\u001b[43m)\u001b[49m \u001b[38;5;28;01mas\u001b[39;00m f:\n\u001b[1;32m     39\u001b[0m     additional_data \u001b[38;5;241m=\u001b[39m json\u001b[38;5;241m.\u001b[39mload(f)\n\u001b[1;32m     41\u001b[0m train_losses \u001b[38;5;241m=\u001b[39m additional_data[\u001b[38;5;124m'\u001b[39m\u001b[38;5;124mtrain_losses\u001b[39m\u001b[38;5;124m'\u001b[39m]\n",
      "File \u001b[0;32m~/miniconda3/envs/anar/lib/python3.11/site-packages/IPython/core/interactiveshell.py:308\u001b[0m, in \u001b[0;36m_modified_open\u001b[0;34m(file, *args, **kwargs)\u001b[0m\n\u001b[1;32m    301\u001b[0m \u001b[38;5;28;01mif\u001b[39;00m file \u001b[38;5;129;01min\u001b[39;00m {\u001b[38;5;241m0\u001b[39m, \u001b[38;5;241m1\u001b[39m, \u001b[38;5;241m2\u001b[39m}:\n\u001b[1;32m    302\u001b[0m     \u001b[38;5;28;01mraise\u001b[39;00m \u001b[38;5;167;01mValueError\u001b[39;00m(\n\u001b[1;32m    303\u001b[0m         \u001b[38;5;124mf\u001b[39m\u001b[38;5;124m\"\u001b[39m\u001b[38;5;124mIPython won\u001b[39m\u001b[38;5;124m'\u001b[39m\u001b[38;5;124mt let you open fd=\u001b[39m\u001b[38;5;132;01m{\u001b[39;00mfile\u001b[38;5;132;01m}\u001b[39;00m\u001b[38;5;124m by default \u001b[39m\u001b[38;5;124m\"\u001b[39m\n\u001b[1;32m    304\u001b[0m         \u001b[38;5;124m\"\u001b[39m\u001b[38;5;124mas it is likely to crash IPython. If you know what you are doing, \u001b[39m\u001b[38;5;124m\"\u001b[39m\n\u001b[1;32m    305\u001b[0m         \u001b[38;5;124m\"\u001b[39m\u001b[38;5;124myou can use builtins\u001b[39m\u001b[38;5;124m'\u001b[39m\u001b[38;5;124m open.\u001b[39m\u001b[38;5;124m\"\u001b[39m\n\u001b[1;32m    306\u001b[0m     )\n\u001b[0;32m--> 308\u001b[0m \u001b[38;5;28;01mreturn\u001b[39;00m \u001b[43mio_open\u001b[49m\u001b[43m(\u001b[49m\u001b[43mfile\u001b[49m\u001b[43m,\u001b[49m\u001b[43m \u001b[49m\u001b[38;5;241;43m*\u001b[39;49m\u001b[43margs\u001b[49m\u001b[43m,\u001b[49m\u001b[43m \u001b[49m\u001b[38;5;241;43m*\u001b[39;49m\u001b[38;5;241;43m*\u001b[39;49m\u001b[43mkwargs\u001b[49m\u001b[43m)\u001b[49m\n",
      "\u001b[0;31mFileNotFoundError\u001b[0m: [Errno 2] No such file or directory: 'alexnet_additional_data.json'"
     ]
    }
   ],
   "source": [
    "# Load model\n",
    "\n",
    "# Set the model name here\n",
    "model_name = 'alexnet'  # Change to 'alexnet', 'googlenet', 'densenet121', 'efficientnet_v2_s', 'resnet50'\n",
    "\n",
    "\n",
    "device = torch.device(\"cuda\" if torch.cuda.is_available() else \"cpu\")\n",
    "\n",
    "if model_name == 'resnet50':\n",
    "    model = models.resnet50(pretrained=True)\n",
    "    num_ftrs = model.fc.in_features\n",
    "    model.fc = nn.Linear(num_ftrs, len(combined_dataset.classes))\n",
    "elif model_name == 'alexnet':\n",
    "    model = models.alexnet(pretrained=True)\n",
    "    num_ftrs = model.classifier[6].in_features\n",
    "    model.classifier[6] = nn.Linear(num_ftrs, len(combined_dataset.classes))\n",
    "elif model_name == 'densenet121':\n",
    "    model = models.densenet121(pretrained=True)\n",
    "    num_ftrs = model.classifier.in_features\n",
    "    model.classifier = nn.Linear(num_ftrs, len(combined_dataset.classes))\n",
    "elif model_name == 'efficientnet_v2_s':\n",
    "    model = models.efficientnet_v2_s(pretrained=True)\n",
    "    num_ftrs = model.classifier[1].in_features\n",
    "    model.classifier[1] = nn.Linear(num_ftrs, len(combined_dataset.classes))\n",
    "elif model_name == 'googlenet':\n",
    "    model = models.googlenet(pretrained=True)\n",
    "    num_ftrs = model.fc.in_features\n",
    "    model.fc = nn.Linear(num_ftrs, len(combined_dataset.classes))\n",
    "else:\n",
    "    raise ValueError(\"Invalid model name\")\n",
    "\n",
    "model.load_state_dict(torch.load(f\"{model_name}_model_state.pth\"))\n",
    "model.to(device)\n",
    "\n",
    "optimizer = optim.SGD(model.parameters(), lr=0.001, momentum=0.9)\n",
    "optimizer.load_state_dict(torch.load(f\"{model_name}_optimizer_state.pth\"))\n",
    "\n",
    "with open(f\"{model_name}_additional_data.json\", 'r') as f:\n",
    "    additional_data = json.load(f)\n",
    "\n",
    "train_losses = additional_data['train_losses']\n",
    "train_accuracies = additional_data['train_accuracies']\n",
    "validation_losses = additional_data['validation_losses']\n",
    "validation_accuracies = additional_data['validation_accuracies']\n",
    "classes = additional_data['classes']\n",
    "\n",
    "# full_model = torch.load(f\"{model_name}_complete_model.pth\")\n",
    "# full_model.to(device)\n"
   ]
  },
  {
   "cell_type": "code",
   "execution_count": 79,
   "id": "6527a819-f859-4615-a31b-15d0ebd2f829",
   "metadata": {},
   "outputs": [],
   "source": [
    "# ================================================"
   ]
  },
  {
   "cell_type": "code",
   "execution_count": 89,
   "id": "36eded6f-7c83-44fa-b747-4d8f1ad62862",
   "metadata": {},
   "outputs": [],
   "source": [
    "import torchvision.models as models\n",
    "import torch.nn as nn\n",
    "\n",
    "def create_model(model_name, num_classes):\n",
    "    if model_name == 'resnet50':\n",
    "        model = models.resnet50(pretrained=True)\n",
    "        num_ftrs = model.fc.in_features\n",
    "        model.fc = nn.Linear(num_ftrs, num_classes)\n",
    "    elif model_name == 'alexnet':\n",
    "        model = models.alexnet(pretrained=True)\n",
    "        num_ftrs = model.classifier[6].in_features\n",
    "        model.classifier[6] = nn.Linear(num_ftrs, num_classes)\n",
    "    elif model_name == 'googlenet':\n",
    "        model = models.googlenet(pretrained=True)\n",
    "        num_ftrs = model.fc.in_features\n",
    "        model.fc = nn.Linear(num_ftrs, num_classes)\n",
    "    elif model_name == 'densenet121':\n",
    "        model = models.densenet121(pretrained=True)\n",
    "        num_ftrs = model.classifier.in_features\n",
    "        model.classifier = nn.Linear(num_ftrs, num_classes)\n",
    "    elif model_name == 'efficientnet_v2_s':\n",
    "        model = models.efficientnet_v2_s(pretrained=True)\n",
    "        num_ftrs = model.classifier.in_features\n",
    "        model.classifier = nn.Linear(num_ftrs, num_classes)\n",
    "    else:\n",
    "        print(\"Invalid model name\")\n",
    "    \n",
    "    return model\n",
    "\n",
    "# Set the model name here\n",
    "model_name = 'alexnet' # Change to 'alexnet', 'googlenet', 'densenet121', 'efficientnet_v2_s', 'resnet50'\n",
    "num_classes = len(combined_dataset.classes)\n",
    "\n",
    "model = create_model(model_name, num_classes)"
   ]
  },
  {
   "cell_type": "code",
   "execution_count": 90,
   "id": "8328b36d-4c42-43dd-8aff-9634c2bed23f",
   "metadata": {},
   "outputs": [
    {
     "name": "stderr",
     "output_type": "stream",
     "text": [
      "Epoch 1: 128it [00:45,  2.83it/s]                                                                                       \n"
     ]
    },
    {
     "name": "stdout",
     "output_type": "stream",
     "text": [
      "Epoch 1, Train Loss: 0.2740, Train Accuracy: 87.67%, Validation Loss: 0.1310, Validation Accuracy: 95.41%\n"
     ]
    },
    {
     "name": "stderr",
     "output_type": "stream",
     "text": [
      "Epoch 2: 128it [00:42,  3.01it/s]                                                                                       \n"
     ]
    },
    {
     "name": "stdout",
     "output_type": "stream",
     "text": [
      "Epoch 2, Train Loss: 0.1429, Train Accuracy: 94.43%, Validation Loss: 0.1138, Validation Accuracy: 95.41%\n"
     ]
    },
    {
     "name": "stderr",
     "output_type": "stream",
     "text": [
      "Epoch 3: 128it [00:43,  2.98it/s]                                                                                       \n"
     ]
    },
    {
     "name": "stdout",
     "output_type": "stream",
     "text": [
      "Epoch 3, Train Loss: 0.1114, Train Accuracy: 96.01%, Validation Loss: 0.0717, Validation Accuracy: 97.49%\n"
     ]
    },
    {
     "name": "stderr",
     "output_type": "stream",
     "text": [
      "Epoch 4: 128it [00:43,  2.94it/s]                                                                                       \n"
     ]
    },
    {
     "name": "stdout",
     "output_type": "stream",
     "text": [
      "Epoch 4, Train Loss: 0.1009, Train Accuracy: 96.20%, Validation Loss: 0.0905, Validation Accuracy: 96.75%\n"
     ]
    },
    {
     "name": "stderr",
     "output_type": "stream",
     "text": [
      "Epoch 5: 128it [00:42,  3.01it/s]                                                                                       \n"
     ]
    },
    {
     "name": "stdout",
     "output_type": "stream",
     "text": [
      "Epoch 5, Train Loss: 0.1335, Train Accuracy: 94.97%, Validation Loss: 0.0751, Validation Accuracy: 97.19%\n"
     ]
    },
    {
     "name": "stderr",
     "output_type": "stream",
     "text": [
      "Epoch 6: 128it [00:42,  3.00it/s]                                                                                       \n"
     ]
    },
    {
     "name": "stdout",
     "output_type": "stream",
     "text": [
      "Epoch 6, Train Loss: 0.0991, Train Accuracy: 95.66%, Validation Loss: 0.0878, Validation Accuracy: 96.60%\n"
     ]
    },
    {
     "name": "stderr",
     "output_type": "stream",
     "text": [
      "Epoch 7: 128it [00:45,  2.83it/s]                                                                                       \n"
     ]
    },
    {
     "name": "stdout",
     "output_type": "stream",
     "text": [
      "Epoch 7, Train Loss: 0.0797, Train Accuracy: 97.29%, Validation Loss: 0.1075, Validation Accuracy: 96.15%\n"
     ]
    },
    {
     "name": "stderr",
     "output_type": "stream",
     "text": [
      "Epoch 8: 128it [00:43,  2.94it/s]                                                                                       \n"
     ]
    },
    {
     "name": "stdout",
     "output_type": "stream",
     "text": [
      "Epoch 8, Train Loss: 0.0820, Train Accuracy: 96.99%, Validation Loss: 0.0597, Validation Accuracy: 98.08%\n"
     ]
    },
    {
     "name": "stderr",
     "output_type": "stream",
     "text": [
      "Epoch 9: 128it [00:44,  2.87it/s]                                                                                       \n"
     ]
    },
    {
     "name": "stdout",
     "output_type": "stream",
     "text": [
      "Epoch 9, Train Loss: 0.0569, Train Accuracy: 97.83%, Validation Loss: 0.1109, Validation Accuracy: 96.01%\n"
     ]
    },
    {
     "name": "stderr",
     "output_type": "stream",
     "text": [
      "Epoch 10: 128it [00:44,  2.85it/s]                                                                                      \n"
     ]
    },
    {
     "name": "stdout",
     "output_type": "stream",
     "text": [
      "Epoch 10, Train Loss: 0.0811, Train Accuracy: 96.79%, Validation Loss: 0.1416, Validation Accuracy: 95.27%\n"
     ]
    },
    {
     "name": "stderr",
     "output_type": "stream",
     "text": [
      "Epoch 11: 128it [00:43,  2.93it/s]                                                                                      \n"
     ]
    },
    {
     "name": "stdout",
     "output_type": "stream",
     "text": [
      "Epoch 11, Train Loss: 0.0543, Train Accuracy: 98.03%, Validation Loss: 0.0821, Validation Accuracy: 96.75%\n"
     ]
    },
    {
     "name": "stderr",
     "output_type": "stream",
     "text": [
      "Epoch 12: 128it [00:43,  2.95it/s]                                                                                      \n"
     ]
    },
    {
     "name": "stdout",
     "output_type": "stream",
     "text": [
      "Epoch 12, Train Loss: 0.0620, Train Accuracy: 97.78%, Validation Loss: 0.0489, Validation Accuracy: 97.63%\n"
     ]
    },
    {
     "name": "stderr",
     "output_type": "stream",
     "text": [
      "Epoch 13: 128it [00:45,  2.84it/s]                                                                                      \n"
     ]
    },
    {
     "name": "stdout",
     "output_type": "stream",
     "text": [
      "Epoch 13, Train Loss: 0.0443, Train Accuracy: 98.37%, Validation Loss: 0.0743, Validation Accuracy: 97.49%\n"
     ]
    },
    {
     "name": "stderr",
     "output_type": "stream",
     "text": [
      "Epoch 14: 128it [00:44,  2.86it/s]                                                                                      \n"
     ]
    },
    {
     "name": "stdout",
     "output_type": "stream",
     "text": [
      "Epoch 14, Train Loss: 0.0510, Train Accuracy: 98.18%, Validation Loss: 0.0500, Validation Accuracy: 97.93%\n"
     ]
    },
    {
     "name": "stderr",
     "output_type": "stream",
     "text": [
      "Epoch 15: 128it [00:42,  2.99it/s]                                                                                      \n"
     ]
    },
    {
     "name": "stdout",
     "output_type": "stream",
     "text": [
      "Epoch 15, Train Loss: 0.0427, Train Accuracy: 98.57%, Validation Loss: 0.0415, Validation Accuracy: 98.08%\n"
     ]
    },
    {
     "name": "stderr",
     "output_type": "stream",
     "text": [
      "Epoch 16: 128it [00:42,  2.98it/s]                                                                                      \n"
     ]
    },
    {
     "name": "stdout",
     "output_type": "stream",
     "text": [
      "Epoch 16, Train Loss: 0.0581, Train Accuracy: 98.03%, Validation Loss: 0.0396, Validation Accuracy: 98.67%\n"
     ]
    },
    {
     "name": "stderr",
     "output_type": "stream",
     "text": [
      "Epoch 17: 128it [00:42,  3.01it/s]                                                                                      \n"
     ]
    },
    {
     "name": "stdout",
     "output_type": "stream",
     "text": [
      "Epoch 17, Train Loss: 0.0534, Train Accuracy: 97.73%, Validation Loss: 0.0569, Validation Accuracy: 97.78%\n"
     ]
    },
    {
     "name": "stderr",
     "output_type": "stream",
     "text": [
      "Epoch 18: 128it [00:44,  2.87it/s]                                                                                      \n"
     ]
    },
    {
     "name": "stdout",
     "output_type": "stream",
     "text": [
      "Epoch 18, Train Loss: 0.0436, Train Accuracy: 98.27%, Validation Loss: 0.0952, Validation Accuracy: 96.60%\n"
     ]
    },
    {
     "name": "stderr",
     "output_type": "stream",
     "text": [
      "Epoch 19: 128it [00:44,  2.87it/s]                                                                                      \n"
     ]
    },
    {
     "name": "stdout",
     "output_type": "stream",
     "text": [
      "Epoch 19, Train Loss: 0.0534, Train Accuracy: 98.27%, Validation Loss: 0.0603, Validation Accuracy: 98.22%\n"
     ]
    },
    {
     "name": "stderr",
     "output_type": "stream",
     "text": [
      "Epoch 20: 128it [00:44,  2.89it/s]                                                                                      \n"
     ]
    },
    {
     "name": "stdout",
     "output_type": "stream",
     "text": [
      "Epoch 20, Train Loss: 0.0344, Train Accuracy: 98.72%, Validation Loss: 0.0807, Validation Accuracy: 97.04%\n"
     ]
    },
    {
     "name": "stderr",
     "output_type": "stream",
     "text": [
      "Epoch 21: 128it [00:43,  2.98it/s]                                                                                      \n"
     ]
    },
    {
     "name": "stdout",
     "output_type": "stream",
     "text": [
      "Epoch 21, Train Loss: 0.0396, Train Accuracy: 98.52%, Validation Loss: 0.0671, Validation Accuracy: 96.89%\n"
     ]
    },
    {
     "name": "stderr",
     "output_type": "stream",
     "text": [
      "Epoch 22: 128it [00:43,  2.95it/s]                                                                                      \n"
     ]
    },
    {
     "name": "stdout",
     "output_type": "stream",
     "text": [
      "Epoch 22, Train Loss: 0.0530, Train Accuracy: 98.47%, Validation Loss: 0.0773, Validation Accuracy: 96.75%\n"
     ]
    },
    {
     "name": "stderr",
     "output_type": "stream",
     "text": [
      "Epoch 23: 128it [00:43,  2.97it/s]                                                                                      \n"
     ]
    },
    {
     "name": "stdout",
     "output_type": "stream",
     "text": [
      "Epoch 23, Train Loss: 0.0422, Train Accuracy: 98.52%, Validation Loss: 0.0448, Validation Accuracy: 97.78%\n"
     ]
    },
    {
     "name": "stderr",
     "output_type": "stream",
     "text": [
      "Epoch 24: 128it [00:42,  2.98it/s]                                                                                      \n"
     ]
    },
    {
     "name": "stdout",
     "output_type": "stream",
     "text": [
      "Epoch 24, Train Loss: 0.0390, Train Accuracy: 98.67%, Validation Loss: 0.0628, Validation Accuracy: 97.63%\n"
     ]
    },
    {
     "name": "stderr",
     "output_type": "stream",
     "text": [
      "Epoch 25: 128it [00:44,  2.91it/s]                                                                                      \n"
     ]
    },
    {
     "name": "stdout",
     "output_type": "stream",
     "text": [
      "Epoch 25, Train Loss: 0.0581, Train Accuracy: 97.73%, Validation Loss: 0.1087, Validation Accuracy: 96.30%\n"
     ]
    },
    {
     "name": "stderr",
     "output_type": "stream",
     "text": [
      "Epoch 26: 128it [00:45,  2.84it/s]                                                                                      \n"
     ]
    },
    {
     "name": "stdout",
     "output_type": "stream",
     "text": [
      "Epoch 26, Train Loss: 0.0437, Train Accuracy: 98.82%, Validation Loss: 0.0587, Validation Accuracy: 97.49%\n"
     ]
    },
    {
     "name": "stderr",
     "output_type": "stream",
     "text": [
      "Epoch 27: 128it [00:45,  2.84it/s]                                                                                      \n"
     ]
    },
    {
     "name": "stdout",
     "output_type": "stream",
     "text": [
      "Epoch 27, Train Loss: 0.0481, Train Accuracy: 98.22%, Validation Loss: 0.0609, Validation Accuracy: 97.49%\n"
     ]
    },
    {
     "name": "stderr",
     "output_type": "stream",
     "text": [
      "Epoch 28: 128it [00:43,  2.97it/s]                                                                                      \n"
     ]
    },
    {
     "name": "stdout",
     "output_type": "stream",
     "text": [
      "Epoch 28, Train Loss: 0.0477, Train Accuracy: 98.37%, Validation Loss: 0.0567, Validation Accuracy: 98.37%\n"
     ]
    },
    {
     "name": "stderr",
     "output_type": "stream",
     "text": [
      "Epoch 29: 128it [00:44,  2.86it/s]                                                                                      \n"
     ]
    },
    {
     "name": "stdout",
     "output_type": "stream",
     "text": [
      "Epoch 29, Train Loss: 0.0400, Train Accuracy: 98.72%, Validation Loss: 0.0434, Validation Accuracy: 98.37%\n"
     ]
    },
    {
     "name": "stderr",
     "output_type": "stream",
     "text": [
      "Epoch 30: 128it [00:44,  2.86it/s]                                                                                      \n"
     ]
    },
    {
     "name": "stdout",
     "output_type": "stream",
     "text": [
      "Epoch 30, Train Loss: 0.0494, Train Accuracy: 98.32%, Validation Loss: 0.0518, Validation Accuracy: 97.93%\n"
     ]
    }
   ],
   "source": [
    "criterion = nn.CrossEntropyLoss()\n",
    "optimizer = optim.SGD(model.parameters(), lr=0.001, momentum=0.9)\n",
    "\n",
    "num_epochs = 30\n",
    "device = torch.device(\"cuda\" if torch.cuda.is_available() else \"cpu\")\n",
    "model.to(device)\n",
    "\n",
    "train_losses = []\n",
    "train_accuracies = []\n",
    "validation_losses = []\n",
    "validation_accuracies = []\n",
    "\n",
    "for epoch in range(num_epochs):\n",
    "    model.train()\n",
    "    running_loss = 0.0\n",
    "    correct_train = 0\n",
    "    total_train = 0\n",
    "    with tqdm(total=len(train_loader), desc=f'Epoch {epoch + 1}') as pbar:\n",
    "        for inputs, labels in train_loader:\n",
    "            inputs, labels = inputs.to(device), labels.to(device)\n",
    "            optimizer.zero_grad()\n",
    "            outputs = model(inputs)\n",
    "            loss = criterion(outputs, labels)\n",
    "            loss.backward()\n",
    "            optimizer.step()\n",
    "            running_loss += loss.item()\n",
    "            pbar.update(1)\n",
    "\n",
    "            _, predicted = torch.max(outputs.data, 1)\n",
    "            total_train += labels.size(0)\n",
    "            correct_train += (predicted == labels).sum().item()\n",
    "            pbar.update(1)\n",
    "\n",
    "    train_loss = running_loss / len(train_loader)\n",
    "    train_accuracy = 100 * correct_train / total_train\n",
    "    train_losses.append(train_loss)\n",
    "    train_accuracies.append(train_accuracy)\n",
    "\n",
    "    model.eval()\n",
    "    running_loss = 0.0\n",
    "    correct = 0\n",
    "    total = 0\n",
    "    with torch.no_grad():\n",
    "        for inputs, labels in validation_loader:\n",
    "            inputs, labels = inputs.to(device), labels.to(device)\n",
    "            outputs = model(inputs)\n",
    "            loss = criterion(outputs, labels)\n",
    "            running_loss += loss.item()\n",
    "\n",
    "            _, predicted = outputs.max(1)\n",
    "            total += labels.size(0)\n",
    "            correct += predicted.eq(labels).sum().item()\n",
    "\n",
    "    validation_loss = running_loss / len(validation_loader)\n",
    "    validation_accuracy = 100.0 * correct / total\n",
    "    validation_losses.append(validation_loss)\n",
    "    validation_accuracies.append(validation_accuracy)\n",
    "\n",
    "    if (epoch + 1) % 5 == 0 or epoch == num_epochs - 1:\n",
    "        \n",
    "        model_save_path = f\"{model_name}_model_state.pth\"\n",
    "        torch.save(model.state_dict(), model_save_path)\n",
    "    \n",
    "        optimizer_save_path = f\"{model_name}_optimizer_state.pth\"\n",
    "        torch.save(optimizer.state_dict(), optimizer_save_path)\n",
    "        \n",
    "        additional_data = {\n",
    "            'train_losses': train_losses,\n",
    "            'train_accuracies': train_accuracies,\n",
    "            'validation_losses': validation_losses,\n",
    "            'validation_accuracies': validation_accuracies,\n",
    "            'classes': combined_dataset.classes,\n",
    "        }\n",
    "        additional_data_save_path = f\"{model_name}_additional_data.json\"\n",
    "        with open(additional_data_save_path, 'w') as f:\n",
    "            json.dump(additional_data, f)\n",
    "        \n",
    "        # full_model_save_path = f\"{model_name}_complete_model_epoch_{epoch+1}.pth\"\n",
    "        # torch.save(model, full_model_save_path)\n",
    "\n",
    "    print(f'Epoch {epoch + 1}, Train Loss: {train_loss:.4f}, Train Accuracy: {train_accuracy:.2f}%, '\n",
    "          f'Validation Loss: {validation_loss:.4f}, Validation Accuracy: {validation_accuracy:.2f}%')"
   ]
  },
  {
   "cell_type": "code",
   "execution_count": 31,
   "id": "b46292f3-849c-4912-816b-3fe03a01d022",
   "metadata": {},
   "outputs": [],
   "source": [
    "# run from here if you loaded the model -----------------------------------------------"
   ]
  },
  {
   "cell_type": "code",
   "execution_count": 70,
   "id": "e854d268-741f-4836-a496-ad640d96f258",
   "metadata": {},
   "outputs": [],
   "source": [
    "# Set the model to evaluation mode\n",
    "model.eval()\n",
    "\n",
    "true_labels = []\n",
    "predicted_scores = []\n",
    "\n",
    "with torch.no_grad():\n",
    "    for inputs, labels in test_loader:\n",
    "        inputs, labels = inputs.to(device), labels.to(device)\n",
    "        outputs = model(inputs)\n",
    "\n",
    "        true_labels.extend(labels.cpu().numpy())\n",
    "        predicted_scores.extend(outputs.cpu().numpy())\n",
    "\n",
    "true_labels_bin = label_binarize(true_labels, classes=np.arange(num_classes))"
   ]
  },
  {
   "cell_type": "code",
   "execution_count": 71,
   "id": "e21625fe-b5e2-4437-8e6e-e1fce37cc3ad",
   "metadata": {},
   "outputs": [
    {
     "name": "stdout",
     "output_type": "stream",
     "text": [
      "True labels shape: (676, 1)\n",
      "Predicted scores shape: (676, 2)\n"
     ]
    }
   ],
   "source": [
    "# Convert lists to NumPy arrays\n",
    "true_labels = np.array(true_labels)\n",
    "predicted_scores = np.array(predicted_scores)\n",
    "\n",
    "print(\"True labels shape:\", true_labels_bin.shape)\n",
    "print(\"Predicted scores shape:\", predicted_scores.shape)"
   ]
  },
  {
   "cell_type": "code",
   "execution_count": 72,
   "id": "3d2fb085-b243-49f3-a86c-f4ff0b6f54d8",
   "metadata": {},
   "outputs": [
    {
     "data": {
      "image/png": "[encoded data removed]",
      "text/plain": [
       "<Figure size 1200x500 with 2 Axes>"
      ]
     },
     "metadata": {},
     "output_type": "display_data"
    },
    {
     "data": {
      "text/plain": [
       "<Figure size 640x480 with 0 Axes>"
      ]
     },
     "metadata": {},
     "output_type": "display_data"
    }
   ],
   "source": [
    "# Plot accuracy and loss\n",
    "plt.figure(figsize=(12, 5))\n",
    "plt.subplot(1, 2, 1)\n",
    "plt.plot(train_accuracies, label='Train Accuracy')\n",
    "plt.plot(validation_accuracies, label='Validation Accuracy')\n",
    "plt.xlabel('Epochs')\n",
    "plt.ylabel('Accuracy')\n",
    "plt.legend()\n",
    "plt.title('Accuracy vs. Epochs')\n",
    "\n",
    "plt.subplot(1, 2, 2)\n",
    "plt.plot(train_losses, label='Train Loss')\n",
    "plt.plot(validation_losses, label='Validation Loss')\n",
    "plt.xlabel('Epochs')\n",
    "plt.ylabel('Loss')\n",
    "plt.legend()\n",
    "plt.title('Loss vs. Epochs')\n",
    "\n",
    "plt.show()\n",
    "\n",
    "save_plot(\"Accuracy vs. Epochs\", f\"{model_name}\")\n",
    "save_plot(\"Loss vs. Epochs\", f\"{model_name}\")"
   ]
  },
  {
   "cell_type": "code",
   "execution_count": 73,
   "id": "5f5bc155-cd34-45a2-a775-cbd3157748c0",
   "metadata": {},
   "outputs": [
    {
     "name": "stderr",
     "output_type": "stream",
     "text": [
      "/home/raziyeh/miniconda3/envs/anar/lib/python3.11/site-packages/sklearn/preprocessing/_encoders.py:975: FutureWarning: `sparse` was renamed to `sparse_output` in version 1.2 and will be removed in 1.4. `sparse_output` is ignored unless you leave `sparse` to its default value.\n",
      "  warnings.warn(\n"
     ]
    }
   ],
   "source": [
    "encoder = OneHotEncoder(sparse=False)\n",
    "true_labels_onehot = encoder.fit_transform(true_labels_bin)"
   ]
  },
  {
   "cell_type": "code",
   "execution_count": 80,
   "id": "b32a4749-f716-46d5-b15e-5e9fca4c492c",
   "metadata": {},
   "outputs": [
    {
     "data": {
      "image/png": "[encoded data removed]",
      "text/plain": [
       "<Figure size 800x600 with 1 Axes>"
      ]
     },
     "metadata": {},
     "output_type": "display_data"
    },
    {
     "data": {
      "text/plain": [
       "<Figure size 640x480 with 0 Axes>"
      ]
     },
     "metadata": {},
     "output_type": "display_data"
    }
   ],
   "source": [
    "fpr = dict()\n",
    "tpr = dict()\n",
    "roc_auc = dict()\n",
    "\n",
    "for i in range(num_classes):\n",
    "    fpr[i], tpr[i], _ = roc_curve(true_labels_onehot[:, i], predicted_scores[:, i])\n",
    "    roc_auc[i] = auc(fpr[i], tpr[i])\n",
    "\n",
    "plt.figure(figsize=(8, 6))\n",
    "for i in range(num_classes):\n",
    "    plt.plot(fpr[i], tpr[i], label=f'Class {i} (AUC = {roc_auc[i]:.4f})')\n",
    "\n",
    "plt.plot([0, 1], [0, 1], 'k--')\n",
    "plt.xlim([0.0, 1.0])\n",
    "plt.ylim([0.0, 1.05])\n",
    "plt.xlabel('False Positive Rate')\n",
    "plt.ylabel('True Positive Rate')\n",
    "plt.title('ROC Curve')\n",
    "plt.legend(loc=\"lower right\")\n",
    "plt.show()\n",
    "\n",
    "save_plot(\"roc_curve\", f\"{model_name}\")"
   ]
  },
  {
   "cell_type": "code",
   "execution_count": 81,
   "id": "b95c7c96-8c86-44ab-87d9-c470c8ff699a",
   "metadata": {},
   "outputs": [
    {
     "data": {
      "image/png": "[encoded data removed]",
      "text/plain": [
       "<Figure size 800x600 with 1 Axes>"
      ]
     },
     "metadata": {},
     "output_type": "display_data"
    },
    {
     "data": {
      "text/plain": [
       "<Figure size 640x480 with 0 Axes>"
      ]
     },
     "metadata": {},
     "output_type": "display_data"
    }
   ],
   "source": [
    "precision = dict()\n",
    "recall = dict()\n",
    "average_precision = dict()\n",
    "\n",
    "for i in range(num_classes):\n",
    "    precision[i], recall[i], _ = precision_recall_curve(true_labels_onehot[:, i], predicted_scores[:, i])\n",
    "    average_precision[i] = average_precision_score(true_labels_onehot[:, i], predicted_scores[:, i])\n",
    "\n",
    "plt.figure(figsize=(8, 6))\n",
    "for i in range(num_classes):\n",
    "    plt.plot(recall[i], precision[i], label=f'Class {i} (Avg Precision = {average_precision[i]:.2f})')\n",
    "\n",
    "plt.xlim([0.0, 1.0])\n",
    "plt.ylim([0.0, 1.05])\n",
    "plt.xlabel('Recall')\n",
    "plt.ylabel('Precision')\n",
    "plt.title('Precision-Recall Curve')\n",
    "plt.legend(loc=\"lower right\")\n",
    "plt.show()\n",
    "\n",
    "save_plot(\"Precision-Recall\", f\"{model_name}\")"
   ]
  },
  {
   "cell_type": "code",
   "execution_count": 82,
   "id": "5b7b0ae5-31f5-4089-badb-eb99afc01fb6",
   "metadata": {},
   "outputs": [
    {
     "data": {
      "image/png": "[encoded data removed]",
      "text/plain": [
       "<Figure size 800x800 with 2 Axes>"
      ]
     },
     "metadata": {},
     "output_type": "display_data"
    },
    {
     "data": {
      "text/plain": [
       "<Figure size 640x480 with 0 Axes>"
      ]
     },
     "metadata": {},
     "output_type": "display_data"
    }
   ],
   "source": [
    "classes = combined_dataset.classes\n",
    "\n",
    "predicted_classes = np.argmax(predicted_scores, axis=1)\n",
    "cm = confusion_matrix(true_labels, predicted_classes)\n",
    "\n",
    "plt.figure(figsize=(8, 8))\n",
    "sns.heatmap(cm, annot=True, fmt='d', cmap='Blues', xticklabels=classes, yticklabels=classes)\n",
    "plt.title('Confusion Matrix')\n",
    "plt.xlabel('Predicted Label')\n",
    "plt.ylabel('True Label')\n",
    "plt.show()\n",
    "\n",
    "save_plot(\"Confusion Matrix\", f\"{model_name}\")"
   ]
  },
  {
   "cell_type": "code",
   "execution_count": 91,
   "id": "3ea29d12-c451-4ea2-b158-eeab6b44f6dc",
   "metadata": {},
   "outputs": [
    {
     "name": "stdout",
     "output_type": "stream",
     "text": [
      "Precision per class: [0.99685535 0.99441341]\n",
      "Recall per class: [0.99373041 0.99719888]\n",
      "F1 Score per class: [0.99529042 0.9958042 ]\n",
      "\n",
      "Micro-average:\n",
      "Precision: 0.9956\n",
      "Recall: 0.9956\n",
      "F1 Score: 0.9956\n",
      "\n",
      "Macro-average:\n",
      "Precision: 0.9956\n",
      "Recall: 0.9955\n",
      "F1 Score: 0.9955\n",
      "Results saved to alexnet_metrics_results.pdf\n"
     ]
    }
   ],
   "source": [
    "precision_per_class = precision_score(true_labels, predicted_classes, average=None)\n",
    "recall_per_class = recall_score(true_labels, predicted_classes, average=None)\n",
    "f1_per_class = f1_score(true_labels, predicted_classes, average=None)\n",
    "\n",
    "precision_micro = precision_score(true_labels, predicted_classes, average='micro')\n",
    "recall_micro = recall_score(true_labels, predicted_classes, average='micro')\n",
    "f1_micro = f1_score(true_labels, predicted_classes, average='micro')\n",
    "\n",
    "precision_macro = precision_score(true_labels, predicted_classes, average='macro')\n",
    "recall_macro = recall_score(true_labels, predicted_classes, average='macro')\n",
    "f1_macro = f1_score(true_labels, predicted_classes, average='macro')\n",
    "\n",
    "print(\"Precision per class:\", precision_per_class)\n",
    "print(\"Recall per class:\", recall_per_class)\n",
    "print(\"F1 Score per class:\", f1_per_class)\n",
    "\n",
    "print(\"\\nMicro-average:\")\n",
    "print(f'Precision: {precision_micro:.4f}')\n",
    "print(f'Recall: {recall_micro:.4f}')\n",
    "print(f'F1 Score: {f1_micro:.4f}')\n",
    "\n",
    "print(\"\\nMacro-average:\")\n",
    "print(f'Precision: {precision_macro:.4f}')\n",
    "print(f'Recall: {recall_macro:.4f}')\n",
    "print(f'F1 Score: {f1_macro:.4f}')\n",
    "\n",
    "save_metrics_to_pdf(\n",
    "    true_labels, predicted_classes, precision_per_class, recall_per_class, f1_per_class,\n",
    "    precision_micro, recall_micro, f1_micro, precision_macro, recall_macro, f1_macro,\n",
    "    model_name=model_name\n",
    ")"
   ]
  },
  {
   "cell_type": "code",
   "execution_count": null,
   "id": "dcb12fda-3924-409c-b271-ad61466477be",
   "metadata": {},
   "outputs": [],
   "source": []
  },
  {
   "cell_type": "code",
   "execution_count": null,
   "id": "607fff9b-4a3e-4363-bed7-4f3da1f10cae",
   "metadata": {},
   "outputs": [],
   "source": []
  }
 ],
 "metadata": {
  "kernelspec": {
   "display_name": "Python 3 (ipykernel)",
   "language": "python",
   "name": "python3"
  },
  "language_info": {
   "codemirror_mode": {
    "name": "ipython",
    "version": 3
   },
   "file_extension": ".py",
   "mimetype": "text/x-python",
   "name": "python",
   "nbconvert_exporter": "python",
   "pygments_lexer": "ipython3",
   "version": "3.11.5"
  }
 },
 "nbformat": 4,
 "nbformat_minor": 5
}
